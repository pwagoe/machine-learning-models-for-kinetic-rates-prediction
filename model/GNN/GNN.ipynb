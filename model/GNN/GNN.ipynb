{
 "cells": [
  {
   "cell_type": "code",
   "execution_count": null,
   "id": "28184c5e",
   "metadata": {},
   "outputs": [],
   "source": [
    "# Import necessary libraries\n",
    "os.chdir(\"C:/Users/Pauli/OneDrive/Dokumente/Uni/Masterarbeit/code/preprocessing\")\n",
    "import pandas as pd\n",
    "import numpy as np\n",
    "import pickle\n",
    "#nn modules\n",
    "import torch\n",
    "import torch.nn as nn\n",
    "import torch.nn.functional as F\n",
    "from torch.utils.data import TensorDataset, DataLoader\n",
    "#metrics and plotting\n",
    "from sklearn.metrics import mean_absolute_error, r2_score\n",
    "import matplotlib.pyplot as plt\n",
    "import seaborn as sns\n",
    "#other\n",
    "import os\n",
    "from datasplit import get_datasplit\n",
    "from featurescaling import scale_features\n"
   ]
  },
  {
   "cell_type": "code",
   "execution_count": null,
   "id": "1bb4dc39",
   "metadata": {},
   "outputs": [],
   "source": [
    "#load adjacency and feature matrix generated in Feature_Generation.ipynb\n",
    "with open(\"ligand_adjacency_and_Feature_Matrices.pkl\", \"rb\") as g:\n",
    "    df_gnn = pickle.load(g)"
   ]
  }
 ],
 "metadata": {
  "language_info": {
   "name": "python"
  }
 },
 "nbformat": 4,
 "nbformat_minor": 5
}
