{
 "cells": [
  {
   "cell_type": "code",
   "execution_count": 1,
   "id": "6e45661d",
   "metadata": {
    "ExecuteTime": {
     "end_time": "2024-11-14T11:10:32.931937Z",
     "start_time": "2024-11-14T11:10:31.912001Z"
    }
   },
   "outputs": [],
   "source": [
    "import pandas as pd\n",
    "import pubchempy as pcp\n",
    "import re"
   ]
  },
  {
   "cell_type": "code",
   "execution_count": 2,
   "id": "97bd711c",
   "metadata": {
    "ExecuteTime": {
     "end_time": "2024-11-14T11:10:48.270709Z",
     "start_time": "2024-11-14T11:10:48.099894Z"
    }
   },
   "outputs": [],
   "source": [
    "dir_DATA = \"/mnt/w/Projects/Kinome/data/\"\n",
    "data_SI = \"SI_info.xlsx\"\n",
    "\n",
    "# original ligands from the SI\n",
    "lig_CAS = pd.read_excel(dir_DATA+data_SI,sheet_name='ligands',header=0).dropna(axis=0)\n",
    "lig_CAS['CAS'] = lig_CAS['CAS'].str.replace(' ', '')\n",
    "lig_CAS['ligand_name'] = lig_CAS['ligand_name'].str.strip()"
   ]
  },
  {
   "cell_type": "code",
   "execution_count": 3,
   "id": "19168379",
   "metadata": {
    "ExecuteTime": {
     "end_time": "2024-11-14T11:39:13.052196Z",
     "start_time": "2024-11-14T11:39:13.042179Z"
    }
   },
   "outputs": [],
   "source": [
    "def process_name(row):\n",
    "    ligname = row[\"ligand_name\"]\n",
    "    if \" (\" in ligname:\n",
    "        commercial_name = ligname[ligname.find(\"(\")+1:ligname.find(\")\")]\n",
    "        ligand = ligname.replace(f\" ({commercial_name})\", \"\")\n",
    "#         ligand, _, commercial_name = ligname.partition(\" (\")\n",
    "#         commercial_name = commercial_name.strip(\")\")\n",
    "    else:\n",
    "        ligand = ligname\n",
    "        commercial_name = ligand\n",
    "    return(ligand, commercial_name)\n",
    "    \n",
    "\n",
    "lig_CAS[[\"ligand\", \"commercial_name\"]] = lig_CAS.apply(process_name, axis='columns', result_type='expand')"
   ]
  },
  {
   "cell_type": "code",
   "execution_count": 4,
   "id": "b1efe4be",
   "metadata": {
    "ExecuteTime": {
     "end_time": "2024-11-14T11:39:19.933896Z",
     "start_time": "2024-11-14T11:39:19.924306Z"
    }
   },
   "outputs": [
    {
     "data": {
      "text/html": [
       "<div>\n",
       "<style scoped>\n",
       "    .dataframe tbody tr th:only-of-type {\n",
       "        vertical-align: middle;\n",
       "    }\n",
       "\n",
       "    .dataframe tbody tr th {\n",
       "        vertical-align: top;\n",
       "    }\n",
       "\n",
       "    .dataframe thead th {\n",
       "        text-align: right;\n",
       "    }\n",
       "</style>\n",
       "<table border=\"1\" class=\"dataframe\">\n",
       "  <thead>\n",
       "    <tr style=\"text-align: right;\">\n",
       "      <th></th>\n",
       "      <th>ligand_name</th>\n",
       "      <th>CAS</th>\n",
       "      <th>ligand</th>\n",
       "      <th>commercial_name</th>\n",
       "    </tr>\n",
       "  </thead>\n",
       "  <tbody>\n",
       "    <tr>\n",
       "      <th>0</th>\n",
       "      <td>3-Methyladenine</td>\n",
       "      <td>5142-23-4</td>\n",
       "      <td>3-Methyladenine</td>\n",
       "      <td>3-Methyladenine</td>\n",
       "    </tr>\n",
       "    <tr>\n",
       "      <th>1</th>\n",
       "      <td>A66</td>\n",
       "      <td>1166227-08-2</td>\n",
       "      <td>A66</td>\n",
       "      <td>A66</td>\n",
       "    </tr>\n",
       "    <tr>\n",
       "      <th>2</th>\n",
       "      <td>A-674563</td>\n",
       "      <td>552325-73-2</td>\n",
       "      <td>A-674563</td>\n",
       "      <td>A-674563</td>\n",
       "    </tr>\n",
       "    <tr>\n",
       "      <th>3</th>\n",
       "      <td>A-769662</td>\n",
       "      <td>844499-71-4</td>\n",
       "      <td>A-769662</td>\n",
       "      <td>A-769662</td>\n",
       "    </tr>\n",
       "    <tr>\n",
       "      <th>4</th>\n",
       "      <td>AEE788 (NVP-AEE788)</td>\n",
       "      <td>497839-62-0</td>\n",
       "      <td>AEE788</td>\n",
       "      <td>NVP-AEE788</td>\n",
       "    </tr>\n",
       "    <tr>\n",
       "      <th>...</th>\n",
       "      <td>...</td>\n",
       "      <td>...</td>\n",
       "      <td>...</td>\n",
       "      <td>...</td>\n",
       "    </tr>\n",
       "    <tr>\n",
       "      <th>265</th>\n",
       "      <td>Y-27632 2HCl</td>\n",
       "      <td>129830-38-2</td>\n",
       "      <td>Y-27632 2HCl</td>\n",
       "      <td>Y-27632 2HCl</td>\n",
       "    </tr>\n",
       "    <tr>\n",
       "      <th>266</th>\n",
       "      <td>YM201636</td>\n",
       "      <td>371942-69-7</td>\n",
       "      <td>YM201636</td>\n",
       "      <td>YM201636</td>\n",
       "    </tr>\n",
       "    <tr>\n",
       "      <th>267</th>\n",
       "      <td>ZM 336372</td>\n",
       "      <td>208260-29-1</td>\n",
       "      <td>ZM 336372</td>\n",
       "      <td>ZM 336372</td>\n",
       "    </tr>\n",
       "    <tr>\n",
       "      <th>268</th>\n",
       "      <td>ZM-447439</td>\n",
       "      <td>331771-20-1</td>\n",
       "      <td>ZM-447439</td>\n",
       "      <td>ZM-447439</td>\n",
       "    </tr>\n",
       "    <tr>\n",
       "      <th>269</th>\n",
       "      <td>ZSTK474</td>\n",
       "      <td>475110-96-4</td>\n",
       "      <td>ZSTK474</td>\n",
       "      <td>ZSTK474</td>\n",
       "    </tr>\n",
       "  </tbody>\n",
       "</table>\n",
       "<p>270 rows × 4 columns</p>\n",
       "</div>"
      ],
      "text/plain": [
       "             ligand_name           CAS           ligand  commercial_name\n",
       "0        3-Methyladenine     5142-23-4  3-Methyladenine  3-Methyladenine\n",
       "1                    A66  1166227-08-2              A66              A66\n",
       "2               A-674563   552325-73-2         A-674563         A-674563\n",
       "3               A-769662   844499-71-4         A-769662         A-769662\n",
       "4    AEE788 (NVP-AEE788)   497839-62-0           AEE788       NVP-AEE788\n",
       "..                   ...           ...              ...              ...\n",
       "265         Y-27632 2HCl   129830-38-2     Y-27632 2HCl     Y-27632 2HCl\n",
       "266             YM201636   371942-69-7         YM201636         YM201636\n",
       "267            ZM 336372   208260-29-1        ZM 336372        ZM 336372\n",
       "268            ZM-447439   331771-20-1        ZM-447439        ZM-447439\n",
       "269              ZSTK474   475110-96-4          ZSTK474          ZSTK474\n",
       "\n",
       "[270 rows x 4 columns]"
      ]
     },
     "execution_count": 4,
     "metadata": {},
     "output_type": "execute_result"
    }
   ],
   "source": [
    "lig_CAS"
   ]
  },
  {
   "cell_type": "code",
   "execution_count": 5,
   "id": "295b82ad",
   "metadata": {
    "ExecuteTime": {
     "end_time": "2024-11-14T18:09:47.285920Z",
     "start_time": "2024-11-14T17:56:34.699694Z"
    }
   },
   "outputs": [
    {
     "name": "stdout",
     "output_type": "stream",
     "text": [
      "BMS-265246 may contain error\n",
      "CP-724714 may contain error\n",
      "Raf265 derivative may contain error\n"
     ]
    }
   ],
   "source": [
    "# test = pcp.get_compounds(lig_CAS.loc[267,\"ligand\"], \"name\")\n",
    "\n",
    "def get_substructure_cas(smiles):\n",
    "    # https://github.com/mcs07/PubChemPy/blob/master/examples/CAS%20registry%20numbers.ipynb\n",
    "    cas_rns = []\n",
    "    \n",
    "    results = pcp.get_synonyms(smiles, 'smiles')\n",
    "    for result in results:\n",
    "        for syn in result.get('Synonym', []):\n",
    "            match = re.match('(\\d{2,7}-\\d\\d-\\d)', syn)\n",
    "            if match:\n",
    "                cas_rns.append(match.group(1))\n",
    "                continue\n",
    "    return cas_rns\n",
    "\n",
    "def get_iso_smi(row):\n",
    "    lignm0 = row[\"ligand_name\"]\n",
    "    lignm1 = row[\"ligand\"]\n",
    "    lignm2 = row[\"commercial_name\"]\n",
    "    cas = row[\"CAS\"]\n",
    "    pubchem_compounds = []\n",
    "    for nm in [lignm0, lignm1, lignm2, cas]:\n",
    "        pubchem_compounds.extend(pcp.get_compounds(nm, \"name\"))\n",
    "    if len(pubchem_compounds) == 0:\n",
    "        print(f\"{lignm} not found\")\n",
    "        return(\"\")\n",
    "    valid = False\n",
    "    for rec in pubchem_compounds:\n",
    "        iso_smi = rec.isomeric_smiles\n",
    "        matching_cas = get_substructure_cas(iso_smi)\n",
    "        if cas in matching_cas:\n",
    "            valid = True\n",
    "            break\n",
    "        else:\n",
    "            continue\n",
    "    if not valid: # no match found when comparing SMILES\n",
    "        print(f\"{lignm0} may contain error\")\n",
    "    return(iso_smi)\n",
    "\n",
    "lig_CAS[\"SMILES\"] = lig_CAS.apply(get_iso_smi, axis='columns')"
   ]
  },
  {
   "cell_type": "code",
   "execution_count": 8,
   "id": "6a531adb",
   "metadata": {},
   "outputs": [
    {
     "data": {
      "text/html": [
       "<div>\n",
       "<style scoped>\n",
       "    .dataframe tbody tr th:only-of-type {\n",
       "        vertical-align: middle;\n",
       "    }\n",
       "\n",
       "    .dataframe tbody tr th {\n",
       "        vertical-align: top;\n",
       "    }\n",
       "\n",
       "    .dataframe thead th {\n",
       "        text-align: right;\n",
       "    }\n",
       "</style>\n",
       "<table border=\"1\" class=\"dataframe\">\n",
       "  <thead>\n",
       "    <tr style=\"text-align: right;\">\n",
       "      <th></th>\n",
       "      <th>ligand_name</th>\n",
       "      <th>CAS</th>\n",
       "      <th>ligand</th>\n",
       "      <th>commercial_name</th>\n",
       "      <th>SMILES</th>\n",
       "    </tr>\n",
       "  </thead>\n",
       "  <tbody>\n",
       "    <tr>\n",
       "      <th>199</th>\n",
       "      <td>Raf265 derivative</td>\n",
       "      <td>n.a.;SelleckchemCat.No.S2200</td>\n",
       "      <td>Raf265 derivative</td>\n",
       "      <td>Raf265 derivative</td>\n",
       "      <td>C1=CC(=CC=C1C(F)(F)F)NC2=NC3=C(N2)C=C(C=C3)OC4...</td>\n",
       "    </tr>\n",
       "  </tbody>\n",
       "</table>\n",
       "</div>"
      ],
      "text/plain": [
       "           ligand_name                           CAS             ligand  \\\n",
       "199  Raf265 derivative  n.a.;SelleckchemCat.No.S2200  Raf265 derivative   \n",
       "\n",
       "       commercial_name                                             SMILES  \n",
       "199  Raf265 derivative  C1=CC(=CC=C1C(F)(F)F)NC2=NC3=C(N2)C=C(C=C3)OC4...  "
      ]
     },
     "execution_count": 8,
     "metadata": {},
     "output_type": "execute_result"
    }
   ],
   "source": [
    "# check entries manually\n",
    "# compare with records (publication/pubchem/chembl/rcsb); edit the spreadsheet if needed\n",
    "lig_CAS.loc[lig_CAS[\"ligand_name\"]==\"Raf265 derivative\", :]"
   ]
  },
  {
   "cell_type": "code",
   "execution_count": 75,
   "id": "39cc24e9",
   "metadata": {
    "ExecuteTime": {
     "end_time": "2024-11-14T19:37:39.393684Z",
     "start_time": "2024-11-14T19:37:39.339966Z"
    }
   },
   "outputs": [],
   "source": [
    "lig_CAS.to_csv(dir_DATA+\"ligands_pubchem.csv\")"
   ]
  }
 ],
 "metadata": {
  "kernelspec": {
   "display_name": "Python [conda env:bio]",
   "language": "python",
   "name": "conda-env-bio-py"
  },
  "language_info": {
   "codemirror_mode": {
    "name": "ipython",
    "version": 3
   },
   "file_extension": ".py",
   "mimetype": "text/x-python",
   "name": "python",
   "nbconvert_exporter": "python",
   "pygments_lexer": "ipython3",
   "version": "3.10.4"
  },
  "varInspector": {
   "cols": {
    "lenName": 16,
    "lenType": 16,
    "lenVar": 40
   },
   "kernels_config": {
    "python": {
     "delete_cmd_postfix": "",
     "delete_cmd_prefix": "del ",
     "library": "var_list.py",
     "varRefreshCmd": "print(var_dic_list())"
    },
    "r": {
     "delete_cmd_postfix": ") ",
     "delete_cmd_prefix": "rm(",
     "library": "var_list.r",
     "varRefreshCmd": "cat(var_dic_list()) "
    }
   },
   "types_to_exclude": [
    "module",
    "function",
    "builtin_function_or_method",
    "instance",
    "_Feature"
   ],
   "window_display": false
  }
 },
 "nbformat": 4,
 "nbformat_minor": 5
}
